{
 "cells": [
  {
   "cell_type": "markdown",
   "id": "a2fd155b-6a46-40cc-8fdd-298ac95e5436",
   "metadata": {},
   "source": [
    "# EFM Demo"
   ]
  },
  {
   "cell_type": "markdown",
   "id": "596aaa08-408e-4dba-bdb5-f603a3a33f17",
   "metadata": {},
   "source": [
    "This demo is recorded as a video and is available on [YouTube](https://www.youtube.com/watch?v=mWjnNM5g2YU&t=24s)"
   ]
  },
  {
   "cell_type": "markdown",
   "id": "b19ed2b1-ec8b-48d3-be5f-1ca3873acf21",
   "metadata": {},
   "source": [
    "| |Hostname|Role|\n",
    "| :-: | :-: | :-: |\n",
    "|VM1|pg1|Master|\n",
    "|VM2|pg2|Standby|\n",
    "|VM3|pg3|Client|"
   ]
  },
  {
   "cell_type": "markdown",
   "id": "4aa60270-c09b-4138-b544-7857fcb48058",
   "metadata": {},
   "source": [
    "## Demo prep"
   ]
  },
  {
   "cell_type": "markdown",
   "id": "542cc15e-104b-4206-8170-bd222f13e9df",
   "metadata": {},
   "source": [
    "### Prepare demo environment"
   ]
  },
  {
   "cell_type": "code",
   "execution_count": null,
   "id": "9abe1853-d0e0-4a3d-b607-0f1b4a4147c3",
   "metadata": {
    "scrolled": true
   },
   "outputs": [],
   "source": [
    "tpaexec provision ."
   ]
  },
  {
   "cell_type": "code",
   "execution_count": null,
   "id": "34a9fca2-16f4-4e41-b71d-01d2dbcf1e08",
   "metadata": {
    "scrolled": true
   },
   "outputs": [],
   "source": [
    "tpaexec deploy ."
   ]
  },
  {
   "cell_type": "markdown",
   "id": "85f07be9-58aa-4c22-a9fe-7341e9d3b16e",
   "metadata": {},
   "source": [
    "### Test connections"
   ]
  },
  {
   "cell_type": "markdown",
   "id": "05202048-8ba7-49d0-9dde-aadbfc0762fd",
   "metadata": {},
   "source": [
    "Open three terminal windows and position them vertically."
   ]
  },
  {
   "cell_type": "markdown",
   "id": "29858d72-8030-4518-a10a-615256df826d",
   "metadata": {},
   "source": [
    "In each terminal window run `ssh -F ssh_config <pg1|pg2|pg3> \"uname -n\"`"
   ]
  },
  {
   "cell_type": "markdown",
   "id": "855d609f-be5b-4ff4-9bf4-e9790365dd25",
   "metadata": {},
   "source": [
    "Prepare demo content (create table EMP, create replication slots and changes efm settings)."
   ]
  },
  {
   "cell_type": "code",
   "execution_count": null,
   "id": "e1b1294d-a2e8-4d46-a654-38f413c6441d",
   "metadata": {},
   "outputs": [],
   "source": [
    "./demo_prep.sh"
   ]
  },
  {
   "cell_type": "markdown",
   "id": "9cd98a72-d2b4-4f60-bbc9-a401016f1fa0",
   "metadata": {},
   "source": [
    "## Demo flow"
   ]
  },
  {
   "cell_type": "markdown",
   "id": "842a5738-3a76-46df-8ac3-2f4b6480ca3b",
   "metadata": {},
   "source": [
    "Create three terminal windows and SSH into each server."
   ]
  },
  {
   "cell_type": "markdown",
   "id": "0c713972-388e-4b35-a773-3a7670f52ec9",
   "metadata": {},
   "source": [
    "|pg1 - Master|pg2 - Standby|pg3 - Client|\n",
    "|:---:|:---:|:---:|\n",
    "|`ssh -F ssh_config pg1`|`ssh -F ssh_config pg2`|`ssh -F ssh_config pg3`|"
   ]
  },
  {
   "cell_type": "markdown",
   "id": "959ddc73-5259-423d-9065-6c2761ce5a50",
   "metadata": {},
   "source": [
    "Start monitoring the cluster on pg2\n",
    "\n",
    "\n",
    "|pg1 - Master|pg2 - Standby|pg3 - Client|\n",
    "| :-: | :-: | :-: |\n",
    "||`sudo watch -n 1 /usr/edb/efm-4.4/bin/efm cluster-status efmdemo`||\n"
   ]
  },
  {
   "cell_type": "markdown",
   "id": "b9e3ec83-b31a-43e8-9b96-2a12358b1e81",
   "metadata": {},
   "source": [
    "As we can see, the master and standby databases are online and synchronized: the WAL LSN number is the same on both: primary and standby databases."
   ]
  },
  {
   "cell_type": "markdown",
   "id": "72eda129-30b1-45f6-b7c1-c022a20fe467",
   "metadata": {},
   "source": [
    "In Terminal 3 I connect to both databases using psql. The read-write attribute defines that I always connect to a primary database because only the master database can receive and process the write transactions."
   ]
  },
  {
   "cell_type": "markdown",
   "id": "af0eaba1-425b-48b1-905e-20508a131d39",
   "metadata": {},
   "source": [
    "We can query the emp table. And check if we are on the master:\n",
    "\n",
    "\n",
    "|pg1 - Master|pg2 - Standby|pg3 - Client|\n",
    "| :---: | :---: | :---: |\n",
    "|||<p>`sudo -i -u enterprisedb psql postgresql://pg1,pg2/edb?target_session_attrs=read-write`</p><p>`SELECT * from EMP;`</p><p>`SELECT inet_server_addr();`</p>|"
   ]
  },
  {
   "cell_type": "markdown",
   "id": "235d3414-d7cf-41f8-93bc-7176a20fea51",
   "metadata": {},
   "source": [
    "## Failover Demo"
   ]
  },
  {
   "cell_type": "markdown",
   "id": "cc36f52b-7539-4e8b-b339-bc30766cc473",
   "metadata": {},
   "source": [
    "Shut down pg1.\n"
   ]
  },
  {
   "cell_type": "markdown",
   "id": "1def379c-444b-4b60-bc64-9cd8870c3c28",
   "metadata": {},
   "source": [
    "|pg1 - Master|pg2 - Standby|pg3 - Client|\n",
    "| :-: | :-: | :-: |\n",
    "|sudo systemctl stop postgres.service|***EFM Monitor Session running***||"
   ]
  },
  {
   "cell_type": "markdown",
   "id": "41f2fcc7-a7dd-42e9-8da7-9af85bbaec9c",
   "metadata": {},
   "source": [
    "In Terminal 3, execute the query again."
   ]
  },
  {
   "cell_type": "markdown",
   "id": "cd308efa-9990-45cf-b022-d38c0970bf40",
   "metadata": {},
   "source": [
    "|pg1 - Standby|pg2 - Master|pg3 - Client|\n",
    "| :-: | :-: | :-: |\n",
    "||***EFM Monitor Session***|<p>`SELECT inet_server_addr();`</p><p>`SELECT * from EMP;`</p>|"
   ]
  },
  {
   "cell_type": "markdown",
   "id": "9fea4571-04f6-4202-b916-4db662e49358",
   "metadata": {},
   "source": [
    "Recover master database (rephrase \"But the situation is not good. The old master database does not exist. And we only have one database running without any protection.\")"
   ]
  },
  {
   "cell_type": "code",
   "execution_count": null,
   "id": "bdd28ab5-14fa-4a75-9a0a-a73b32cb265c",
   "metadata": {},
   "outputs": [],
   "source": [
    "cat /usr/edb/efm-4.4/bin/efm_reconfigure_node.sh"
   ]
  },
  {
   "cell_type": "markdown",
   "id": "0c68dd35-f8d5-4b65-8a80-aa5c8641b8b0",
   "metadata": {},
   "source": [
    "This script starts the old primary database as the new standby. The tool `pg_rewind` can be used for this. "
   ]
  },
  {
   "cell_type": "markdown",
   "id": "f7c9bed8-cf34-41e2-8b3b-f2f773bd991b",
   "metadata": {},
   "source": [
    "|pg1 - Standby|pg2 - Master|pg3 - Client|\n",
    "| :-: | :-: | :-: |\n",
    "|`sudo /usr/edb/efm-4.4/bin/efm_reconfigure_node.sh`|***EFM Monitor Session***||"
   ]
  },
  {
   "cell_type": "markdown",
   "id": "cd8d8d3e-6307-4c09-9562-cc5ab03d1eec",
   "metadata": {},
   "source": [
    "In case WAL replication may takes too long, force a WAL switch.\n",
    "\n",
    "\n",
    "|pg1 - Standby|pg2 - Master|pg3 - Client|\n",
    "| :-: | :-: | :-: |\n",
    "||***EFM Monitor Session***|`select pg_switch_wal();`|"
   ]
  },
  {
   "cell_type": "markdown",
   "id": "2d82725b-2cfa-4436-b2cd-a96852c6581e",
   "metadata": {},
   "source": [
    "## Switchover\n",
    "\n",
    "|pg1 - Standby|pg2 - Master|pg3 - Client|\n",
    "| :-: | :-: | :-: |\n",
    "|`sudo /usr/edb/efm-4.4/bin/efm promote efmdemo -switchover`|***EFM Monitor Session***||\n",
    "\n",
    "Result:\n",
    "\n",
    "|pg1 - Master|pg2 - Standby|pg3 - Client|\n",
    "| :-: | :-: | :-: |\n",
    "||***EFM Monitor Session***||\n",
    "\n"
   ]
  },
  {
   "cell_type": "markdown",
   "id": "9336eb12-4988-483a-9cb0-65294ff61e19",
   "metadata": {},
   "source": [
    "## Demo cleanup"
   ]
  },
  {
   "cell_type": "code",
   "execution_count": null,
   "id": "7326f240-42b1-4868-8203-8cc6dc397fd9",
   "metadata": {},
   "outputs": [],
   "source": [
    "tpaexec deprovision ."
   ]
  }
 ],
 "metadata": {
  "kernelspec": {
   "display_name": "Bash",
   "language": "bash",
   "name": "bash"
  },
  "language_info": {
   "codemirror_mode": "shell",
   "file_extension": ".sh",
   "mimetype": "text/x-sh",
   "name": "bash"
  }
 },
 "nbformat": 4,
 "nbformat_minor": 5
}
